{
 "cells": [
  {
   "cell_type": "markdown",
   "metadata": {},
   "source": [
    "## Proyecto 1"
   ]
  },
  {
   "cell_type": "code",
   "execution_count": 6,
   "metadata": {},
   "outputs": [],
   "source": [
    "import numpy as np\n",
    "import matplotlib.pyplot as plt"
   ]
  },
  {
   "cell_type": "code",
   "execution_count": 7,
   "metadata": {},
   "outputs": [],
   "source": [
    "class Nodo:\n",
    "    #Inicializamos los atributos de la clase\n",
    "    def __init__(self, vecinos, estado):\n",
    "        self.vecinos = np.array(vecinos,dtype=np.int32)\n",
    "        self.estado = estado\n",
    "    #Métodos de la clase\n",
    "    def AddNodo(self,ni): #Añade una conexión al nodo\n",
    "        if(ni not in self.vecinos):\n",
    "            self.vecinos=np.append(self.vecinos,ni)\n",
    "        return False\n",
    "    def GetNumVecinos(self): #Cuenta el número de vecinos del nodo\n",
    "        return np.size(self.vecinos)"
   ]
  },
  {
   "cell_type": "code",
   "execution_count": 8,
   "metadata": {},
   "outputs": [],
   "source": [
    "#Creamos una red de Krapivski, Redner y Leyvraz\n",
    "class RedEP:\n",
    "    #Inicializamos los atributos de la clase\n",
    "    def __init__(self, Nt,alph):\n",
    "        self.Nt=Nt\n",
    "        self.nd = []\n",
    "        self.alph=alph\n",
    "        for i in range(self.Nt):\n",
    "            self.nd.append(Nodo([],0))\n",
    "        #self.nd[1].AddNodo(0)\n",
    "        #self.nd[0].AddNodo(1)\n",
    "        for i in range(self.Nt):\n",
    "            j=self.EnlacePreferencial(i,alph)\n",
    "            self.nd[i].AddNodo(j)\n",
    "            self.nd[j].AddNodo(i)\n",
    "    #Métodos de la  red       \n",
    "    def EnlacePreferencial(self,N,alph):\n",
    "        j=0\n",
    "        F=np.zeros(N+1)\n",
    "        s=0\n",
    "        for t in range(N):\n",
    "            s+=(self.nd[t].GetNumVecinos())**alph\n",
    "        F[0]=0\n",
    "        for  t in range(1,N+1):\n",
    "            F[t]+=F[t-1]+(1.0*self.nd[t-1].GetNumVecinos())**alph/s\n",
    "        x=np.random.rand()\n",
    "        for t in range(N):\n",
    "            if(F[t]<x and x<=F[t+1]):\n",
    "                j=t\n",
    "        return j\n",
    "    \n",
    "    def GeneraPK(self):\n",
    "        P=np.zeros(self.Nt)\n",
    "        kmax=0\n",
    "        for i in range(self.Nt):\n",
    "            k=self.nd[i].GetNumVecinos()\n",
    "            if(k>kmax):\n",
    "                kmax=k\n",
    "            P[k]+=1\n",
    "        return P,kmax\n",
    "    def GuardaRed(self,file):\n",
    "        f=open(\"f:/OneDrive/Clases UNAM/Complejos/Tarea3/\"+file+\".tgf\", 'w+')\n",
    "        for i in range(self.Nt):\n",
    "            f.write(str(i)+\"\\t\"+str(i)+\"\\n\")\n",
    "        f.write(\"#\\n\")\n",
    "        for i in range(self.Nt):\n",
    "            k=self.nd[i].GetNumVecinos()\n",
    "            for j in range(k):\n",
    "                iv=self.nd[i].vecinos[j]\n",
    "                f.write(str(i)+\"\\t\"+ str(iv)+\"\\n\")\n",
    "        f.close()"
   ]
  },
  {
   "cell_type": "code",
   "execution_count": 9,
   "metadata": {},
   "outputs": [],
   "source": [
    "##Inciso a, para alpha=0.5\n",
    "#5000 nodos\n",
    "red1=RedEP(5000,0.5)\n",
    "red1.GuardaRed(\"alpha05\")"
   ]
  },
  {
   "cell_type": "code",
   "execution_count": null,
   "metadata": {},
   "outputs": [
    {
     "data": {
      "image/png": "[encoded data removed]",
      "text/plain": [
       "<Figure size 640x480 with 1 Axes>"
      ]
     },
     "metadata": {},
     "output_type": "display_data"
    }
   ],
   "source": [
    "#15000 nodos\n",
    "red2=RedEP(15000,0.5)\n",
    "Pk,kmax=red2.GeneraPK()\n",
    "xplot=range(red2.Nt)\n",
    "fig,ax=plt.subplots()\n",
    "plt.plot(xplot[1:kmax+1],Pk[1:kmax+1])\n",
    "plt.xlabel('$k$')\n",
    "plt.ylabel('$P(k))$')\n",
    "plt.savefig('PK05.pdf')"
   ]
  },
  {
   "cell_type": "code",
   "execution_count": 11,
   "metadata": {},
   "outputs": [],
   "source": [
    "##Para alpha=1\n",
    "#5000 nodos\n",
    "red_=RedEP(5000,1.0)\n",
    "red_.GuardaRed(\"alpha10\")"
   ]
  },
  {
   "cell_type": "code",
   "execution_count": 12,
   "metadata": {},
   "outputs": [],
   "source": [
    "##Inciso a, para alpha=1.5\n",
    "#5000 nodos\n",
    "red3=RedEP(5000,1.5)\n",
    "red3.GuardaRed(\"alpha15\")"
   ]
  },
  {
   "cell_type": "code",
   "execution_count": null,
   "metadata": {},
   "outputs": [],
   "source": [
    "#15000 nodos\n",
    "red4=RedEP(15000,1.5)\n",
    "Pk,kmax=red4.GeneraPK()\n",
    "xplot=range(red4.Nt)\n",
    "fig,ax=plt.subplots()\n",
    "ax.set_xscale(\"log\", base=10);\n",
    "ax.set_yscale(\"log\", base=10);\n",
    "plt.plot(xplot[1:kmax+1],Pk[1:kmax+1])\n",
    "plt.xlabel('$k$')\n",
    "plt.ylabel('$P(k))$')\n",
    "plt.savefig('PK15.pdf')"
   ]
  },
  {
   "cell_type": "code",
   "execution_count": null,
   "metadata": {},
   "outputs": [],
   "source": []
  }
 ],
 "metadata": {
  "kernelspec": {
   "display_name": "base",
   "language": "python",
   "name": "python3"
  },
  "language_info": {
   "codemirror_mode": {
    "name": "ipython",
    "version": 3
   },
   "file_extension": ".py",
   "mimetype": "text/x-python",
   "name": "python",
   "nbconvert_exporter": "python",
   "pygments_lexer": "ipython3",
   "version": "3.10.9"
  }
 },
 "nbformat": 4,
 "nbformat_minor": 2
}
